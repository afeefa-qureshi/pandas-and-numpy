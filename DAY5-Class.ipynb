{
 "cells": [
  {
   "cell_type": "markdown",
   "id": "3b9ba1be",
   "metadata": {},
   "source": [
    "# creating simple Dataframe"
   ]
  },
  {
   "cell_type": "code",
   "execution_count": 2,
   "id": "a72c2abe",
   "metadata": {},
   "outputs": [],
   "source": [
    "import pandas as pd\n",
    "data = {'Name': ['Alice', 'Bob', 'Charlie'], 'Age': [25, 30, 35]}"
   ]
  },
  {
   "cell_type": "markdown",
   "id": "dc8ae977",
   "metadata": {},
   "source": [
    "# Accessing Dataframe"
   ]
  },
  {
   "cell_type": "code",
   "execution_count": 3,
   "id": "8a6efed6",
   "metadata": {},
   "outputs": [
    {
     "name": "stdout",
     "output_type": "stream",
     "text": [
      "      Name  Age\n",
      "0    Alice   25\n",
      "1      Bob   30\n",
      "2  Charlie   35\n"
     ]
    }
   ],
   "source": [
    "df = pd.DataFrame(data)\n",
    "print(df)"
   ]
  },
  {
   "cell_type": "markdown",
   "id": "9dbb7427",
   "metadata": {},
   "source": [
    "# Read CSV file"
   ]
  },
  {
   "cell_type": "code",
   "execution_count": 26,
   "id": "e7b00814",
   "metadata": {},
   "outputs": [],
   "source": [
    "import pandas as pd\n",
    "df = pd.read_csv('sales_data.csv')"
   ]
  },
  {
   "cell_type": "markdown",
   "id": "5ac7e2c6",
   "metadata": {},
   "source": [
    "# Viewing the Data"
   ]
  },
  {
   "cell_type": "code",
   "execution_count": 27,
   "id": "f99047fa",
   "metadata": {},
   "outputs": [
    {
     "name": "stdout",
     "output_type": "stream",
     "text": [
      "   OrderID     Product     Category  Quantity    Price   OrderDate  \\\n",
      "0        1  Smartphone  Electronics         1   699.99  2023-05-14   \n",
      "1        2      Laptop  Electronics         2  1299.99  2023-05-18   \n",
      "2        3  Headphones  Electronics         5   199.99  2023-05-21   \n",
      "3        4     Monitor  Electronics         3   499.99  2023-05-23   \n",
      "4        5        Book      Fashion        10    39.99  2023-06-02   \n",
      "5        6       Shoes      Fashion         4    89.99  2023-06-05   \n",
      "6        7       Shirt      Fashion         6    29.99  2023-06-07   \n",
      "7        8      Tablet  Electronics         3   399.99  2023-06-10   \n",
      "\n",
      "            City    Country  \n",
      "0       New York        USA  \n",
      "1  San Francisco        USA  \n",
      "2         London         UK  \n",
      "3          Paris     France  \n",
      "4         Berlin    Germany  \n",
      "5         Sydney  Australia  \n",
      "6       New York        USA  \n",
      "7  San Francisco        USA  \n"
     ]
    }
   ],
   "source": [
    "print(df)"
   ]
  },
  {
   "cell_type": "code",
   "execution_count": 28,
   "id": "11b616a1",
   "metadata": {},
   "outputs": [
    {
     "name": "stdout",
     "output_type": "stream",
     "text": [
      "   OrderID     Product     Category  Quantity    Price   OrderDate  \\\n",
      "0        1  Smartphone  Electronics         1   699.99  2023-05-14   \n",
      "1        2      Laptop  Electronics         2  1299.99  2023-05-18   \n",
      "2        3  Headphones  Electronics         5   199.99  2023-05-21   \n",
      "3        4     Monitor  Electronics         3   499.99  2023-05-23   \n",
      "4        5        Book      Fashion        10    39.99  2023-06-02   \n",
      "\n",
      "            City  Country  \n",
      "0       New York      USA  \n",
      "1  San Francisco      USA  \n",
      "2         London       UK  \n",
      "3          Paris   France  \n",
      "4         Berlin  Germany  \n"
     ]
    }
   ],
   "source": [
    "#The head() method returns the headers and a specified number of rows, starting from the top.\n",
    "\n",
    "print(df.head(5))"
   ]
  },
  {
   "cell_type": "code",
   "execution_count": 29,
   "id": "14a7f0f2",
   "metadata": {},
   "outputs": [
    {
     "name": "stdout",
     "output_type": "stream",
     "text": [
      "   OrderID  Product     Category  Quantity   Price   OrderDate           City  \\\n",
      "3        4  Monitor  Electronics         3  499.99  2023-05-23          Paris   \n",
      "4        5     Book      Fashion        10   39.99  2023-06-02         Berlin   \n",
      "5        6    Shoes      Fashion         4   89.99  2023-06-05         Sydney   \n",
      "6        7    Shirt      Fashion         6   29.99  2023-06-07       New York   \n",
      "7        8   Tablet  Electronics         3  399.99  2023-06-10  San Francisco   \n",
      "\n",
      "     Country  \n",
      "3     France  \n",
      "4    Germany  \n",
      "5  Australia  \n",
      "6        USA  \n",
      "7        USA  \n"
     ]
    }
   ],
   "source": [
    "#The tail() method returns the headers and a specified number of rows, starting from the bottom.\n",
    "\n",
    "print(df.tail(5))"
   ]
  },
  {
   "cell_type": "markdown",
   "id": "3bb285bd",
   "metadata": {},
   "source": [
    "# Creating Numpy Array"
   ]
  },
  {
   "cell_type": "code",
   "execution_count": 30,
   "id": "c1b28abd",
   "metadata": {},
   "outputs": [
    {
     "name": "stdout",
     "output_type": "stream",
     "text": [
      "[1 2 3 4 5]\n"
     ]
    }
   ],
   "source": [
    "import numpy as np\n",
    "arr = np.array([1, 2, 3, 4, 5])\n",
    "print(arr)\n"
   ]
  },
  {
   "cell_type": "markdown",
   "id": "317f56c3",
   "metadata": {},
   "source": [
    "# Access Array Elements"
   ]
  },
  {
   "cell_type": "code",
   "execution_count": 14,
   "id": "2d42ac9b",
   "metadata": {},
   "outputs": [
    {
     "name": "stdout",
     "output_type": "stream",
     "text": [
      "4\n"
     ]
    }
   ],
   "source": [
    "print(arr[3])"
   ]
  },
  {
   "cell_type": "code",
   "execution_count": 16,
   "id": "53330e8e",
   "metadata": {},
   "outputs": [
    {
     "name": "stdout",
     "output_type": "stream",
     "text": [
      "7\n"
     ]
    }
   ],
   "source": [
    "print(arr[2] + arr[3])"
   ]
  },
  {
   "cell_type": "markdown",
   "id": "a48bece3",
   "metadata": {},
   "source": [
    "# NumPy Array Slicing"
   ]
  },
  {
   "cell_type": "code",
   "execution_count": 17,
   "id": "9dbdc089",
   "metadata": {},
   "outputs": [
    {
     "name": "stdout",
     "output_type": "stream",
     "text": [
      "[2 3 4 5]\n"
     ]
    }
   ],
   "source": [
    "print(arr[1:5])"
   ]
  },
  {
   "cell_type": "code",
   "execution_count": 18,
   "id": "b04ed714",
   "metadata": {},
   "outputs": [
    {
     "name": "stdout",
     "output_type": "stream",
     "text": [
      "[5]\n"
     ]
    }
   ],
   "source": [
    "print(arr[4:])"
   ]
  },
  {
   "cell_type": "code",
   "execution_count": null,
   "id": "8b095079",
   "metadata": {},
   "outputs": [],
   "source": [
    "print(arr[:4])"
   ]
  },
  {
   "cell_type": "markdown",
   "id": "99a916c9",
   "metadata": {},
   "source": [
    "# working on CSV file"
   ]
  },
  {
   "cell_type": "markdown",
   "id": "be529caf",
   "metadata": {},
   "source": [
    "### Basic Data Exploration"
   ]
  },
  {
   "cell_type": "code",
   "execution_count": 31,
   "id": "9691320e",
   "metadata": {},
   "outputs": [
    {
     "data": {
      "text/plain": [
       "(8, 8)"
      ]
     },
     "execution_count": 31,
     "metadata": {},
     "output_type": "execute_result"
    }
   ],
   "source": [
    "# Check the shape of the dataset\n",
    "df.shape"
   ]
  },
  {
   "cell_type": "code",
   "execution_count": 32,
   "id": "309297f8",
   "metadata": {},
   "outputs": [
    {
     "name": "stdout",
     "output_type": "stream",
     "text": [
      "<class 'pandas.core.frame.DataFrame'>\n",
      "RangeIndex: 8 entries, 0 to 7\n",
      "Data columns (total 8 columns):\n",
      " #   Column     Non-Null Count  Dtype  \n",
      "---  ------     --------------  -----  \n",
      " 0   OrderID    8 non-null      int64  \n",
      " 1   Product    8 non-null      object \n",
      " 2   Category   8 non-null      object \n",
      " 3   Quantity   8 non-null      int64  \n",
      " 4   Price      8 non-null      float64\n",
      " 5   OrderDate  8 non-null      object \n",
      " 6   City       8 non-null      object \n",
      " 7   Country    8 non-null      object \n",
      "dtypes: float64(1), int64(2), object(5)\n",
      "memory usage: 640.0+ bytes\n"
     ]
    }
   ],
   "source": [
    "# Get a summary of the dataset\n",
    "df.info()"
   ]
  },
  {
   "cell_type": "code",
   "execution_count": 33,
   "id": "e835383f",
   "metadata": {},
   "outputs": [
    {
     "data": {
      "text/plain": [
       "OrderID      0\n",
       "Product      0\n",
       "Category     0\n",
       "Quantity     0\n",
       "Price        0\n",
       "OrderDate    0\n",
       "City         0\n",
       "Country      0\n",
       "dtype: int64"
      ]
     },
     "execution_count": 33,
     "metadata": {},
     "output_type": "execute_result"
    }
   ],
   "source": [
    "# Check for any missing values\n",
    "df.isnull().sum()"
   ]
  },
  {
   "cell_type": "markdown",
   "id": "d295fdc3",
   "metadata": {},
   "source": [
    "# Filtering Data"
   ]
  },
  {
   "cell_type": "code",
   "execution_count": 35,
   "id": "6707dc38",
   "metadata": {},
   "outputs": [
    {
     "data": {
      "text/html": [
       "<div>\n",
       "<style scoped>\n",
       "    .dataframe tbody tr th:only-of-type {\n",
       "        vertical-align: middle;\n",
       "    }\n",
       "\n",
       "    .dataframe tbody tr th {\n",
       "        vertical-align: top;\n",
       "    }\n",
       "\n",
       "    .dataframe thead th {\n",
       "        text-align: right;\n",
       "    }\n",
       "</style>\n",
       "<table border=\"1\" class=\"dataframe\">\n",
       "  <thead>\n",
       "    <tr style=\"text-align: right;\">\n",
       "      <th></th>\n",
       "      <th>OrderID</th>\n",
       "      <th>Product</th>\n",
       "      <th>Category</th>\n",
       "      <th>Quantity</th>\n",
       "      <th>Price</th>\n",
       "      <th>OrderDate</th>\n",
       "      <th>City</th>\n",
       "      <th>Country</th>\n",
       "    </tr>\n",
       "  </thead>\n",
       "  <tbody>\n",
       "    <tr>\n",
       "      <th>0</th>\n",
       "      <td>1</td>\n",
       "      <td>Smartphone</td>\n",
       "      <td>Electronics</td>\n",
       "      <td>1</td>\n",
       "      <td>699.99</td>\n",
       "      <td>2023-05-14</td>\n",
       "      <td>New York</td>\n",
       "      <td>USA</td>\n",
       "    </tr>\n",
       "    <tr>\n",
       "      <th>1</th>\n",
       "      <td>2</td>\n",
       "      <td>Laptop</td>\n",
       "      <td>Electronics</td>\n",
       "      <td>2</td>\n",
       "      <td>1299.99</td>\n",
       "      <td>2023-05-18</td>\n",
       "      <td>San Francisco</td>\n",
       "      <td>USA</td>\n",
       "    </tr>\n",
       "    <tr>\n",
       "      <th>2</th>\n",
       "      <td>3</td>\n",
       "      <td>Headphones</td>\n",
       "      <td>Electronics</td>\n",
       "      <td>5</td>\n",
       "      <td>199.99</td>\n",
       "      <td>2023-05-21</td>\n",
       "      <td>London</td>\n",
       "      <td>UK</td>\n",
       "    </tr>\n",
       "    <tr>\n",
       "      <th>3</th>\n",
       "      <td>4</td>\n",
       "      <td>Monitor</td>\n",
       "      <td>Electronics</td>\n",
       "      <td>3</td>\n",
       "      <td>499.99</td>\n",
       "      <td>2023-05-23</td>\n",
       "      <td>Paris</td>\n",
       "      <td>France</td>\n",
       "    </tr>\n",
       "    <tr>\n",
       "      <th>7</th>\n",
       "      <td>8</td>\n",
       "      <td>Tablet</td>\n",
       "      <td>Electronics</td>\n",
       "      <td>3</td>\n",
       "      <td>399.99</td>\n",
       "      <td>2023-06-10</td>\n",
       "      <td>San Francisco</td>\n",
       "      <td>USA</td>\n",
       "    </tr>\n",
       "  </tbody>\n",
       "</table>\n",
       "</div>"
      ],
      "text/plain": [
       "   OrderID     Product     Category  Quantity    Price   OrderDate  \\\n",
       "0        1  Smartphone  Electronics         1   699.99  2023-05-14   \n",
       "1        2      Laptop  Electronics         2  1299.99  2023-05-18   \n",
       "2        3  Headphones  Electronics         5   199.99  2023-05-21   \n",
       "3        4     Monitor  Electronics         3   499.99  2023-05-23   \n",
       "7        8      Tablet  Electronics         3   399.99  2023-06-10   \n",
       "\n",
       "            City Country  \n",
       "0       New York     USA  \n",
       "1  San Francisco     USA  \n",
       "2         London      UK  \n",
       "3          Paris  France  \n",
       "7  San Francisco     USA  "
      ]
     },
     "execution_count": 35,
     "metadata": {},
     "output_type": "execute_result"
    }
   ],
   "source": [
    "# Filter orders where the category is 'Electronics'\n",
    "electronics_df = df[df['Category'] == 'Electronics']\n",
    "electronics_df.head()"
   ]
  },
  {
   "cell_type": "markdown",
   "id": "20c33485",
   "metadata": {},
   "source": [
    "# Applying NumPy Functions"
   ]
  },
  {
   "cell_type": "code",
   "execution_count": 37,
   "id": "d96f82b7",
   "metadata": {},
   "outputs": [
    {
     "name": "stdout",
     "output_type": "stream",
     "text": [
      "Total sales amount: Rs7939.66\n"
     ]
    }
   ],
   "source": [
    "import numpy as np\n",
    "\n",
    "# Calculate total sales for each order (Quantity * Price)\n",
    "df['TotalSales'] = df['Quantity'] * df['Price']\n",
    "\n",
    "# Calculate the overall total sales using NumPy's sum function\n",
    "total_sales = np.sum(df['TotalSales'])\n",
    "print(f\"Total sales amount: Rs{total_sales:.2f}\")\n"
   ]
  },
  {
   "cell_type": "markdown",
   "id": "86ce3468",
   "metadata": {},
   "source": [
    "# Grouping Data"
   ]
  },
  {
   "cell_type": "code",
   "execution_count": 38,
   "id": "9d2c3d6b",
   "metadata": {},
   "outputs": [
    {
     "name": "stdout",
     "output_type": "stream",
     "text": [
      "Category\n",
      "Electronics    14\n",
      "Fashion        20\n",
      "Name: Quantity, dtype: int64\n"
     ]
    }
   ],
   "source": [
    "# Group data by category and calculate total quantity sold in each category\n",
    "category_sales = df.groupby('Category')['Quantity'].sum()\n",
    "print(category_sales)\n"
   ]
  },
  {
   "cell_type": "markdown",
   "id": "0bbeaa24",
   "metadata": {},
   "source": [
    "# Analyzing Sales by Country"
   ]
  },
  {
   "cell_type": "code",
   "execution_count": 39,
   "id": "048f997a",
   "metadata": {},
   "outputs": [
    {
     "name": "stdout",
     "output_type": "stream",
     "text": [
      "Country\n",
      "Australia     359.96\n",
      "France       1499.97\n",
      "Germany       399.90\n",
      "UK            999.95\n",
      "USA          4679.88\n",
      "Name: TotalSales, dtype: float64\n"
     ]
    }
   ],
   "source": [
    "# Group data by country and calculate total sales\n",
    "country_sales = df.groupby('Country')['TotalSales'].sum()\n",
    "\n",
    "# Display the sales by country\n",
    "print(country_sales)\n"
   ]
  },
  {
   "cell_type": "markdown",
   "id": "edaff3c5",
   "metadata": {},
   "source": [
    "# Data Cleaning"
   ]
  },
  {
   "cell_type": "code",
   "execution_count": 45,
   "id": "641b48eb",
   "metadata": {},
   "outputs": [],
   "source": [
    "# Check for duplicates\n",
    "duplicate=df.duplicated().sum()\n",
    "\n",
    "# Drop any rows with missing values (if there were any)\n",
    "df_clean = df.dropna()\n"
   ]
  },
  {
   "cell_type": "code",
   "execution_count": null,
   "id": "ec2c1233",
   "metadata": {},
   "outputs": [],
   "source": []
  }
 ],
 "metadata": {
  "kernelspec": {
   "display_name": "Python 3 (ipykernel)",
   "language": "python",
   "name": "python3"
  },
  "language_info": {
   "codemirror_mode": {
    "name": "ipython",
    "version": 3
   },
   "file_extension": ".py",
   "mimetype": "text/x-python",
   "name": "python",
   "nbconvert_exporter": "python",
   "pygments_lexer": "ipython3",
   "version": "3.9.13"
  }
 },
 "nbformat": 4,
 "nbformat_minor": 5
}
